{
 "cells": [
  {
   "cell_type": "code",
   "execution_count": 1,
   "metadata": {},
   "outputs": [
    {
     "name": "stderr",
     "output_type": "stream",
     "text": [
      "/Users/huizhizhang/anaconda3/envs/FISH/lib/python3.11/site-packages/tqdm/auto.py:21: TqdmWarning: IProgress not found. Please update jupyter and ipywidgets. See https://ipywidgets.readthedocs.io/en/stable/user_install.html\n",
      "  from .autonotebook import tqdm as notebook_tqdm\n"
     ]
    },
    {
     "name": "stdout",
     "output_type": "stream",
     "text": [
      "PyTorch version: 2.2.0\n",
      "Torchvision version: 0.17.0\n",
      "CUDA is available: False\n",
      "Device: CPU\n"
     ]
    }
   ],
   "source": [
    "# Import & Settings\n",
    "import sys\n",
    "import scipy.io\n",
    "import json\n",
    "import numpy as np\n",
    "import pathlib\n",
    "import os\n",
    "import platform\n",
    "import matplotlib.pyplot as plt\n",
    "import cv2\n",
    "\n",
    "from segment_anything import sam_model_registry, SamAutomaticMaskGenerator, SamPredictor\n",
    "\n",
    "from PyQt5.QtWidgets import QApplication, QLabel, QMainWindow, QWidget, QVBoxLayout\n",
    "from PyQt5.QtGui import QImage, QPixmap\n",
    "from PyQt5.QtCore import Qt\n",
    "\n",
    "\n",
    "# Global Variables\n",
    "DEVICE = 'cuda' if (platform.system() == \"Windows\") else 'cpu'\n",
    "SAM_CHECKPOINT = 'sam_vit_h_4b8939.pth'\n",
    "MODEL_TYPE = 'vit_h'\n",
    "\n",
    "# Functions for SAM (predictor_tryout.ipynb)\n",
    "def supportTest(DEVICE):\n",
    "    import torch\n",
    "    import torchvision\n",
    "    print(\"PyTorch version:\", torch.__version__)\n",
    "    print(\"Torchvision version:\", torchvision.__version__)\n",
    "    print(\"CUDA is available:\", torch.cuda.is_available())\n",
    "    print(\"Device:\", torch.cuda.get_device_name()) if (DEVICE == 'cuda') else print(\"Device: CPU\")\n",
    "supportTest(DEVICE)\n",
    "\n",
    "def show_mask(mask, ax, random_color=False):\n",
    "    if random_color:\n",
    "        color = np.concatenate([np.random.random(3), np.array([0.6])], axis=0)\n",
    "    else:\n",
    "        color = np.array([30/255, 144/255, 255/255, 0.6])\n",
    "    h, w = mask.shape[-2:]\n",
    "    mask_image = mask.reshape(h, w, 1) * color.reshape(1, 1, -1)\n",
    "    ax.imshow(mask_image)\n",
    "    \n",
    "def show_points(coords, labels, ax, marker_size=375):\n",
    "    pos_points = coords[labels==1]\n",
    "    neg_points = coords[labels==0]\n",
    "    ax.scatter(pos_points[:, 0], pos_points[:, 1], color='green', marker='*', s=marker_size, edgecolor='white', linewidth=1.25)\n",
    "    ax.scatter(neg_points[:, 0], neg_points[:, 1], color='red', marker='*', s=marker_size, edgecolor='white', linewidth=1.25)   \n",
    "    \n",
    "def show_box(box, ax):\n",
    "    x0, y0 = box[0], box[1]\n",
    "    w, h = box[2] - box[0], box[3] - box[1]\n",
    "    ax.add_patch(plt.Rectangle((x0, y0), w, h, edgecolor='green', facecolor=(0,0,0,0), lw=2))\n",
    "\n",
    "def show_anns(anns):\n",
    "    if len(anns) == 0:\n",
    "        return\n",
    "    sorted_anns = sorted(anns, key=(lambda x: x['area']), reverse=True)\n",
    "    ax = plt.gca()\n",
    "    ax.set_autoscale_on(False)\n",
    "\n",
    "    img = np.ones((sorted_anns[0]['segmentation'].shape[0], sorted_anns[0]['segmentation'].shape[1], 4))\n",
    "    img[:,:,3] = 0\n",
    "    for ann in sorted_anns:\n",
    "        m = ann['segmentation']\n",
    "        color_mask = np.concatenate([np.random.random(3), [0.35]])\n",
    "        img[m] = color_mask\n",
    "    ax.imshow(img)\n",
    "\n",
    "# Functions for PyQT (new)\n",
    "def matrix_to_qimage(matrix):\n",
    "    # Assuming matrix is a 3D numpy array with shape (height, width, 4) and dtype=np.float32 or np.uint8\n",
    "    if matrix.dtype == np.float32:  # Assuming your array is in [0, 1] for floats\n",
    "        matrix = (matrix * 255).astype(np.uint8)\n",
    "    height, width, channels = matrix.shape\n",
    "    bytes_per_line = width * channels  # 4 bytes per pixel for RGBA\n",
    "    return QImage(matrix.data, width, height, bytes_per_line, QImage.Format_RGBA8888)\n",
    "\n",
    "def display_image(qimage):\n",
    "    app = QApplication(sys.argv)\n",
    "\n",
    "    # Create a QMainWindow or any other QWidget as the main window\n",
    "    window = QMainWindow()\n",
    "    window.setWindowTitle('Mask Display')\n",
    "\n",
    "    # Use a QLabel to display the image\n",
    "    label = QLabel()\n",
    "    label.setPixmap(QPixmap.fromImage(qimage))\n",
    "\n",
    "    # Set the QLabel as the central widget of the QMainWindow\n",
    "    window.setCentralWidget(label)\n",
    "\n",
    "    window.show()\n",
    "    sys.exit(app.exec_())"
   ]
  },
  {
   "cell_type": "code",
   "execution_count": 2,
   "metadata": {},
   "outputs": [
    {
     "name": "stdout",
     "output_type": "stream",
     "text": [
      "(2048, 2048, 3)\n"
     ]
    }
   ],
   "source": [
    "sam_checkpoint = SAM_CHECKPOINT\n",
    "model_type = MODEL_TYPE\n",
    "sam = sam_model_registry[model_type](checkpoint=sam_checkpoint)\n",
    "sam.to(device=DEVICE)\n",
    "\n",
    "# Read image from folder\n",
    "image = cv2.imread('img/test_1.jpg')\n",
    "image = cv2.cvtColor(image, cv2.COLOR_BGR2RGB)\n",
    "print(image.shape)\n",
    "\n",
    "# Predict\n",
    "mask_generator = SamAutomaticMaskGenerator(sam)\n",
    "masks = mask_generator.generate(image)"
   ]
  },
  {
   "cell_type": "code",
   "execution_count": 3,
   "metadata": {},
   "outputs": [
    {
     "name": "stdout",
     "output_type": "stream",
     "text": [
      "(2048, 2048, 4)\n"
     ]
    }
   ],
   "source": [
    "sorted_masks = sorted(masks, key=(lambda x: x['area']), reverse=True)\n",
    "# Ensure the dtype is float to accommodate the color values and alpha channel\n",
    "img = np.ones((sorted_masks[0]['segmentation'].shape[0], sorted_masks[0]['segmentation'].shape[1], 4), dtype=np.float32)\n",
    "img[:, :, 3] = 0  # Set alpha channel to fully transparent\n",
    "\n",
    "for ann in sorted_masks:\n",
    "    m = ann['segmentation']\n",
    "    # Ensure the color_mask is an array of floats for the RGBA channels\n",
    "    color_mask = np.concatenate([np.random.random(3).astype(np.float32), [0.35]]).astype(np.float32)\n",
    "    img[m] = color_mask\n",
    "\n",
    "print(img.shape)  # (2048, 2048, 4), confirming the final image shape"
   ]
  },
  {
   "cell_type": "code",
   "execution_count": 4,
   "metadata": {},
   "outputs": [
    {
     "ename": "SystemExit",
     "evalue": "0",
     "output_type": "error",
     "traceback": [
      "An exception has occurred, use %tb to see the full traceback.\n",
      "\u001b[0;31mSystemExit\u001b[0m\u001b[0;31m:\u001b[0m 0\n"
     ]
    },
    {
     "name": "stderr",
     "output_type": "stream",
     "text": [
      "/Users/huizhizhang/anaconda3/envs/FISH/lib/python3.11/site-packages/IPython/core/interactiveshell.py:3561: UserWarning: To exit: use 'exit', 'quit', or Ctrl-D.\n",
      "  warn(\"To exit: use 'exit', 'quit', or Ctrl-D.\", stacklevel=1)\n"
     ]
    }
   ],
   "source": [
    "qimage = matrix_to_qimage(img)\n",
    "display_image(qimage)"
   ]
  }
 ],
 "metadata": {
  "kernelspec": {
   "display_name": "FISH",
   "language": "python",
   "name": "python3"
  },
  "language_info": {
   "codemirror_mode": {
    "name": "ipython",
    "version": 3
   },
   "file_extension": ".py",
   "mimetype": "text/x-python",
   "name": "python",
   "nbconvert_exporter": "python",
   "pygments_lexer": "ipython3",
   "version": "3.11.7"
  }
 },
 "nbformat": 4,
 "nbformat_minor": 2
}
