{
 "cells": [
  {
   "cell_type": "code",
   "execution_count": 1,
   "metadata": {},
   "outputs": [
    {
     "name": "stderr",
     "output_type": "stream",
     "text": [
      "c:\\Users\\tiger\\anaconda3\\envs\\FISH\\Lib\\site-packages\\tqdm\\auto.py:21: TqdmWarning: IProgress not found. Please update jupyter and ipywidgets. See https://ipywidgets.readthedocs.io/en/stable/user_install.html\n",
      "  from .autonotebook import tqdm as notebook_tqdm\n"
     ]
    }
   ],
   "source": [
    "# Import & Settings\n",
    "import sys\n",
    "import scipy.io\n",
    "import json\n",
    "import numpy as np\n",
    "import pathlib\n",
    "import os\n",
    "import platform\n",
    "import matplotlib.pyplot as plt\n",
    "import cv2\n",
    "import torch\n",
    "import torchvision\n",
    "from PIL import Image\n",
    "\n",
    "import fishLoader\n",
    "\n",
    "from segment_anything import sam_model_registry, SamAutomaticMaskGenerator, SamPredictor"
   ]
  },
  {
   "cell_type": "code",
   "execution_count": 2,
   "metadata": {},
   "outputs": [],
   "source": [
    "def import_image_RGB(PATH):\n",
    "    img = Image.open(pathlib.Path(PATH))\n",
    "    rgb_img = img.convert(\"RGB\")\n",
    "    image_array = np.array(rgb_img)\n",
    "\n",
    "    return image_array\n",
    "\n",
    "def get_scores(masks):\n",
    "    mask_iou_scores = [single_cell['predicted_iou'] for single_cell in masks]\n",
    "    return mask_iou_scores\n",
    "\n",
    "def mask_to_matrix(masks) -> np.ndarray:\n",
    "        img = np.ones((2048, 2048, 4), dtype=np.float32)\n",
    "        img[:, :, 3] = 0\n",
    "        \n",
    "        # Calculate the size of each mask\n",
    "        mask_sizes = [np.sum(single_cell['segmentation']) for single_cell in masks]\n",
    "        \n",
    "        # Identify the largest mask\n",
    "        largest_mask_index = np.argmax(mask_sizes)\n",
    "        \n",
    "        # Apply colors and opacity\n",
    "        for index, single_cell in enumerate(masks):\n",
    "            m = single_cell['segmentation']\n",
    "            \n",
    "            if index == largest_mask_index:\n",
    "                color_mask = np.array([0, 0, 0, 0], dtype=np.float32)  # Set color and make invisible\n",
    "            else:\n",
    "                color_mask = np.concatenate([np.random.random(3).astype(np.float32), [1]]).astype(np.float32)  # Random color and fully opaque\n",
    "            \n",
    "            img[m] = color_mask\n",
    "        \n",
    "        return img"
   ]
  },
  {
   "cell_type": "code",
   "execution_count": 3,
   "metadata": {},
   "outputs": [],
   "source": [
    "SAM_CHECKPOINT = 'sam_vit_h_4b8939.pth'\n",
    "MODEL_TYPE = 'vit_h'\n",
    "DEVICE = 'cuda' if torch.cuda.is_available() else 'cpu'\n",
    "TITLE = \"FISH APP\"\n",
    "PATH = \"151-200_Hong/MAX_KO2_w1-359 DAPI_s058.tif\"\n",
    "SAM = sam_model_registry[MODEL_TYPE](checkpoint=SAM_CHECKPOINT)\n",
    "SAM.to(device=DEVICE)\n",
    "IMG = import_image_RGB(PATH)\n",
    "IMG_RAW = Image.open(pathlib.Path(PATH))\n",
    "CELLS_IN_IMG = 4"
   ]
  },
  {
   "cell_type": "code",
   "execution_count": 11,
   "metadata": {},
   "outputs": [],
   "source": [
    "pps_tryout = {}\n",
    "for i in range(5,32):\n",
    "    mg = SamAutomaticMaskGenerator(SAM, points_per_side=i)\n",
    "    mask = mg.generate(IMG)"
   ]
  }
 ],
 "metadata": {
  "kernelspec": {
   "display_name": "FISH",
   "language": "python",
   "name": "python3"
  },
  "language_info": {
   "codemirror_mode": {
    "name": "ipython",
    "version": 3
   },
   "file_extension": ".py",
   "mimetype": "text/x-python",
   "name": "python",
   "nbconvert_exporter": "python",
   "pygments_lexer": "ipython3",
   "version": "3.11.7"
  }
 },
 "nbformat": 4,
 "nbformat_minor": 2
}
