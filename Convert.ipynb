{
 "cells": [
  {
   "cell_type": "code",
   "execution_count": 1,
   "id": "c8a5cf51",
   "metadata": {},
   "outputs": [],
   "source": [
    "import scipy.io\n",
    "import json\n",
    "import numpy as np\n",
    "import pathlib\n",
    "import os"
   ]
  },
  {
   "cell_type": "code",
   "execution_count": 2,
   "id": "d7442be5",
   "metadata": {},
   "outputs": [],
   "source": [
    "mat = scipy.io.loadmat(\"C:\\\\Users\\\\tiger\\\\Documents\\\\GitHub\\\\FISH-ML\\\\10_60_min_comparison.mat\")"
   ]
  },
  {
   "cell_type": "code",
   "execution_count": 78,
   "id": "fd1e62a6",
   "metadata": {},
   "outputs": [],
   "source": [
    "all_cells = mat[\"Tracked_60min\"][0]"
   ]
  },
  {
   "cell_type": "code",
   "execution_count": 155,
   "id": "c9551ee8",
   "metadata": {},
   "outputs": [],
   "source": [
    "def convert(all_cells):\n",
    "    converted: list[dict()] = []\n",
    "    for i in range(all_cells.shape[0]):\n",
    "        cur = dict()\n",
    "        try:\n",
    "            for j in range(100):\n",
    "                cur[j] = all_cells[i][0,0][j][0]\n",
    "        except IndexError:\n",
    "            pass\n",
    "        converted.append(cur)\n",
    "    return converted"
   ]
  },
  {
   "cell_type": "code",
   "execution_count": 165,
   "id": "3ac46315",
   "metadata": {},
   "outputs": [
    {
     "name": "stdout",
     "output_type": "stream",
     "text": [
      "E:\\Hong\\12.31.22_Lifetime_FISH\\ZprojectWithDAPI\\60min_H\\\n"
     ]
    }
   ],
   "source": [
    "hello = convert(all_cells)\n",
    "print(hello[0][0])"
   ]
  }
 ],
 "metadata": {
  "kernelspec": {
   "display_name": "Python 3 (ipykernel)",
   "language": "python",
   "name": "python3"
  },
  "language_info": {
   "codemirror_mode": {
    "name": "ipython",
    "version": 3
   },
   "file_extension": ".py",
   "mimetype": "text/x-python",
   "name": "python",
   "nbconvert_exporter": "python",
   "pygments_lexer": "ipython3",
   "version": "3.11.7"
  }
 },
 "nbformat": 4,
 "nbformat_minor": 5
}
