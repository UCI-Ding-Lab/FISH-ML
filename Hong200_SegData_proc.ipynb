{
 "cells": [
  {
   "cell_type": "code",
   "execution_count": 49,
   "metadata": {},
   "outputs": [],
   "source": [
    "import numpy as np\n",
    "from datasets import Dataset\n",
    "from PIL import Image\n",
    "\n",
    "# https://pytorch.org/docs/stable/index.html\n",
    "import torch\n",
    "\n",
    "# https://huggingface.co/docs/transformers/v4.39.3/en/index\n",
    "from transformers import SamModel, SamProcessor\n",
    "\n",
    "# pre-defined loader functions\n",
    "import fishLoader as fish\n",
    "\n",
    "# pre-defined pre-proc functions\n",
    "import pre_proc_func as ppf"
   ]
  },
  {
   "cell_type": "code",
   "execution_count": 50,
   "metadata": {},
   "outputs": [],
   "source": [
    "mat_1_50 = fish.load_matlab_data('1-50_Hong/1-50_finished.mat')"
   ]
  },
  {
   "cell_type": "code",
   "execution_count": 51,
   "metadata": {},
   "outputs": [],
   "source": [
    "images = fish.get_tiffs_from_folder('201-250_Hong')\n",
    "filtered_masks, valid_indices = fish.get_masks_from_mat('201-250_Hong/201-250_finished.mat', 'Tracked_201250')\n",
    "filtered_images = images[valid_indices] # filters out the images that don't have masks"
   ]
  },
  {
   "cell_type": "code",
   "execution_count": 52,
   "metadata": {},
   "outputs": [],
   "source": [
    "# Convert the NumPy arrays to 'uint8' and then to Pillow images, storing them in a dictionary\n",
    "dataset_dict = {\n",
    "    \"image\": [Image.fromarray(img.astype(np.uint8)).convert(\"RGB\") for img in filtered_images],\n",
    "    \"label\": [Image.fromarray(mask.astype(np.uint8)) for mask in filtered_masks],\n",
    "}\n",
    "\n",
    "# Create the dataset using the datasets.Dataset class\n",
    "dataset = Dataset.from_dict(dataset_dict)"
   ]
  },
  {
   "cell_type": "code",
   "execution_count": 53,
   "metadata": {},
   "outputs": [],
   "source": [
    "device = \"cuda\" if torch.cuda.is_available() else \"cpu\"\n",
    "# \"facebook/sam-vit-huge\" is equivalent to \"ViT-H SAM model\"\n",
    "model = SamModel.from_pretrained(\"facebook/sam-vit-huge\").to(device)\n",
    "processor = SamProcessor.from_pretrained(\"facebook/sam-vit-huge\")"
   ]
  },
  {
   "cell_type": "code",
   "execution_count": 54,
   "metadata": {},
   "outputs": [],
   "source": [
    "train_dataset = ppf.SAMDataset(dataset=dataset, processor=processor)"
   ]
  },
  {
   "cell_type": "code",
   "execution_count": 55,
   "metadata": {},
   "outputs": [
    {
     "name": "stdout",
     "output_type": "stream",
     "text": [
      "pixel_values torch.Size([3, 1024, 1024])\n",
      "original_sizes torch.Size([2])\n",
      "reshaped_input_sizes torch.Size([2])\n",
      "input_boxes torch.Size([1, 4])\n",
      "ground_truth_mask (2048, 2048)\n"
     ]
    }
   ],
   "source": [
    "example = train_dataset[0]\n",
    "for k,v in example.items():\n",
    "  print(k,v.shape)"
   ]
  }
 ],
 "metadata": {
  "kernelspec": {
   "display_name": "FISH",
   "language": "python",
   "name": "python3"
  },
  "language_info": {
   "codemirror_mode": {
    "name": "ipython",
    "version": 3
   },
   "file_extension": ".py",
   "mimetype": "text/x-python",
   "name": "python",
   "nbconvert_exporter": "python",
   "pygments_lexer": "ipython3",
   "version": "3.11.7"
  }
 },
 "nbformat": 4,
 "nbformat_minor": 2
}
